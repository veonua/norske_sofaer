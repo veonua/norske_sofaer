{
 "cells": [
  {
   "cell_type": "code",
   "execution_count": 1,
   "metadata": {},
   "outputs": [],
   "source": [
    "from bs4 import BeautifulSoup\n",
    "import pandas as pd\n",
    "import requests"
   ]
  },
  {
   "cell_type": "code",
   "execution_count": 2,
   "metadata": {},
   "outputs": [],
   "source": [
    "prev_len = 0\n",
    "links = set()\n",
    "page = 1\n",
    "while True:\n",
    "    search = requests.get(f\"https://www.mobelringen.no/stue/sofa?p={page}\")\n",
    "    soup = BeautifulSoup(search.content, 'html.parser')\n",
    "    new_links = set(i.attrs['href'] for i in soup.find_all('a', attrs={'class':'product-item-link'}))\n",
    "    prev_len = len(links)\n",
    "    links |= new_links\n",
    "    if prev_len == len(links):\n",
    "        break\n",
    "    page += 1\n",
    "    "
   ]
  },
  {
   "cell_type": "code",
   "execution_count": 3,
   "metadata": {},
   "outputs": [],
   "source": [
    "def scrap_mobelringen(url):\n",
    "    #print (url)\n",
    "    content = requests.get(url).content\n",
    "    soup = BeautifulSoup(content, 'html.parser')\n",
    "    price_amount = soup.find('meta', attrs={'property':'product:price:amount'}).attrs['content']\n",
    "    price_currency = soup.find('meta', attrs={'property':'product:price:currency'}).attrs['content']\n",
    "    model = soup.find('h1', attrs={'class':'page-title'}).text.strip()\n",
    "    dims_el = soup.find('ul', attrs={'class':'dimensions desktop'})\n",
    "    dims = dims_el.find_all('span', attrs={'class':'value'})\n",
    "\n",
    "    item = {\n",
    "        'source' : 'mobelringen',\n",
    "        'model' : soup.find('meta', attrs={'property':'og:title'}).attrs['content'],\n",
    "        'image' : soup.find('meta', attrs={'property':'og:image'}).attrs['content'],\n",
    "        'description' : soup.find('meta', attrs={'property':'og:description'}).attrs['content'],\n",
    "        'url' : soup.find('meta', attrs={'property':'og:url'}).attrs['content'],\n",
    "        'price' : price_amount+' '+price_currency,\n",
    "        'sku' : soup.find('meta', attrs={'itemprop':'sku'}).attrs['content'],\n",
    "        'brand' : soup.find('meta', attrs={'itemprop':'brand'}).attrs['content']\n",
    "    }\n",
    "\n",
    "    trans = {'Bredde': 'width',\n",
    "     'Høyde': 'height',\n",
    "     'Lengde': 'length',\n",
    "     'Sittehøyde': 'sit_height',\n",
    "     'Dybde': 'depth'}\n",
    "\n",
    "    dims_el = soup.find('ul', attrs={'class':'dimensions desktop'})\n",
    "    dims_l = dims_el.find_all('li')\n",
    "    for l in dims_l:\n",
    "        label = l.find('label')\n",
    "        if not label or not trans.get(label.text):\n",
    "            continue\n",
    "        val = l.find('span', attrs={'class':'value'}).text[:-3]\n",
    "        item[trans.get(label.text)] = val\n",
    "        try:\n",
    "            item[trans.get(label.text)+\"_i\"] = int(val)\n",
    "        except ValueError:\n",
    "            pass\n",
    "        \n",
    "    item['sleep'] = 'n'\n",
    "    return item\n",
    "\n",
    "items = (scrap_mobelringen(url) for url in links)"
   ]
  },
  {
   "cell_type": "code",
   "execution_count": 177,
   "metadata": {},
   "outputs": [],
   "source": [
    "df = pd.DataFrame(items)\n",
    "df['sleep'] = df['model'].str.contains('sovesofa')\n",
    "#df.to_csv(\"/home/veon/Documents/mobelringen.csv\")"
   ]
  },
  {
   "cell_type": "markdown",
   "metadata": {},
   "source": [
    "# Start here"
   ]
  },
  {
   "cell_type": "code",
   "execution_count": 2,
   "metadata": {},
   "outputs": [
    {
     "data": {
      "text/plain": [
       "184"
      ]
     },
     "execution_count": 2,
     "metadata": {},
     "output_type": "execute_result"
    }
   ],
   "source": [
    "df = pd.read_csv(\"https://raw.githubusercontent.com/veonua/norske_sofaer/master/data/mobelringen.csv\")\n",
    "len(df)"
   ]
  },
  {
   "cell_type": "code",
   "execution_count": 4,
   "metadata": {},
   "outputs": [],
   "source": [
    "df['max_depth_i'] = df['length_i']"
   ]
  },
  {
   "cell_type": "code",
   "execution_count": 9,
   "metadata": {},
   "outputs": [],
   "source": [
    "filt = df[['image', 'price', 'model', 'brand', 'max_depth_i', 'width_i', 'url']]\n",
    "fw = df['width_i'].between(260, 285) # | (df['width_i'] == 0)\n",
    "fd = df['max_depth_i'].between(200,223) | (df['max_depth_i'] == 0)\n",
    "filt = filt[fd & fw].sort_values('brand')"
   ]
  },
  {
   "cell_type": "code",
   "execution_count": 14,
   "metadata": {},
   "outputs": [
    {
     "data": {
      "text/html": [
       "<table border=\"1\" class=\"dataframe\">\n",
       "  <thead>\n",
       "    <tr style=\"text-align: right;\">\n",
       "      <th></th>\n",
       "      <th>image</th>\n",
       "      <th>price</th>\n",
       "      <th>brand</th>\n",
       "      <th>max_depth_i</th>\n",
       "      <th>width_i</th>\n",
       "      <th>url</th>\n",
       "    </tr>\n",
       "  </thead>\n",
       "  <tbody>\n",
       "    <tr>\n",
       "      <th>102</th>\n",
       "      <td><img src=\"https://www.mobelringen.no/media/catalog/product/cache/bc1e159b67398ba35d189fa382110a17/2/9/292189_3630930.png\"></td>\n",
       "      <td>9999 NOK</td>\n",
       "      <td>DOMINARI</td>\n",
       "      <td>202.0</td>\n",
       "      <td>280.0</td>\n",
       "      <td><a href=\"https://www.mobelringen.no/balder-hjornesofa\">link</a></td>\n",
       "    </tr>\n",
       "    <tr>\n",
       "      <th>116</th>\n",
       "      <td><img src=\"https://www.mobelringen.no/media/catalog/product/cache/bc1e159b67398ba35d189fa382110a17/2/9/295848_3854436.jpg\"></td>\n",
       "      <td>9999 NOK</td>\n",
       "      <td>DOMINARI</td>\n",
       "      <td>202.0</td>\n",
       "      <td>280.0</td>\n",
       "      <td><a href=\"https://www.mobelringen.no/balder-hjornesofa-295848\">link</a></td>\n",
       "    </tr>\n",
       "    <tr>\n",
       "      <th>113</th>\n",
       "      <td><img src=\"https://www.mobelringen.no/media/catalog/product/cache/bc1e159b67398ba35d189fa382110a17/3/2/322344001_8678037.png\"></td>\n",
       "      <td>14719 NOK</td>\n",
       "      <td>DOMINARI - NORTH LIVING</td>\n",
       "      <td>206.0</td>\n",
       "      <td>279.0</td>\n",
       "      <td><a href=\"https://www.mobelringen.no/isak-hjornesofa-322344001\">link</a></td>\n",
       "    </tr>\n",
       "    <tr>\n",
       "      <th>121</th>\n",
       "      <td><img src=\"https://www.mobelringen.no/media/catalog/product/cache/bc1e159b67398ba35d189fa382110a17/3/2/322343001_8679934.png\"></td>\n",
       "      <td>14719 NOK</td>\n",
       "      <td>DOMINARI - NORTH LIVING</td>\n",
       "      <td>206.0</td>\n",
       "      <td>279.0</td>\n",
       "      <td><a href=\"https://www.mobelringen.no/isak-hjornesofa-322343001\">link</a></td>\n",
       "    </tr>\n",
       "    <tr>\n",
       "      <th>4</th>\n",
       "      <td><img src=\"https://www.mobelringen.no/media/catalog/product/cache/bc1e159b67398ba35d189fa382110a17/2/7/275130006_3987328.jpg\"></td>\n",
       "      <td>28699 NOK</td>\n",
       "      <td>HJELLEGJERDE AS</td>\n",
       "      <td>202.0</td>\n",
       "      <td>280.0</td>\n",
       "      <td><a href=\"https://www.mobelringen.no/anne-hjornesofa-275130006\">link</a></td>\n",
       "    </tr>\n",
       "    <tr>\n",
       "      <th>69</th>\n",
       "      <td><img src=\"https://www.mobelringen.no/media/catalog/product/cache/bc1e159b67398ba35d189fa382110a17/2/7/275130016_8606880.png\"></td>\n",
       "      <td>30499 NOK</td>\n",
       "      <td>HJELLEGJERDE AS</td>\n",
       "      <td>202.0</td>\n",
       "      <td>270.0</td>\n",
       "      <td><a href=\"https://www.mobelringen.no/anne-modulsofa\">link</a></td>\n",
       "    </tr>\n",
       "    <tr>\n",
       "      <th>160</th>\n",
       "      <td><img src=\"https://www.mobelringen.no/media/catalog/product/cache/bc1e159b67398ba35d189fa382110a17/2/7/275130001_2504991.png\"></td>\n",
       "      <td>28699 NOK</td>\n",
       "      <td>HJELLEGJERDE AS</td>\n",
       "      <td>202.0</td>\n",
       "      <td>280.0</td>\n",
       "      <td><a href=\"https://www.mobelringen.no/anne-hjornesofa\">link</a></td>\n",
       "    </tr>\n",
       "    <tr>\n",
       "      <th>176</th>\n",
       "      <td><img src=\"https://www.mobelringen.no/media/catalog/product/cache/bc1e159b67398ba35d189fa382110a17/2/4/248833001_643948.png\"></td>\n",
       "      <td>29299 NOK</td>\n",
       "      <td>HJELLEGJERDE AS</td>\n",
       "      <td>218.0</td>\n",
       "      <td>275.0</td>\n",
       "      <td><a href=\"https://www.mobelringen.no/mantovani-modulsofa-248833001\">link</a></td>\n",
       "    </tr>\n",
       "    <tr>\n",
       "      <th>28</th>\n",
       "      <td><img src=\"https://www.mobelringen.no/media/catalog/product/cache/bc1e159b67398ba35d189fa382110a17/3/0/305120002_8608668.png\"></td>\n",
       "      <td>14999 NOK</td>\n",
       "      <td>SCAPA BALTIC UAB</td>\n",
       "      <td>210.0</td>\n",
       "      <td>260.0</td>\n",
       "      <td><a href=\"https://www.mobelringen.no/siero-modulsofa\">link</a></td>\n",
       "    </tr>\n",
       "    <tr>\n",
       "      <th>172</th>\n",
       "      <td><img src=\"https://www.mobelringen.no/media/catalog/product/cache/bc1e159b67398ba35d189fa382110a17/3/0/305121001_8692104.png\"></td>\n",
       "      <td>14999 NOK</td>\n",
       "      <td>SCAPA BALTIC UAB</td>\n",
       "      <td>210.0</td>\n",
       "      <td>260.0</td>\n",
       "      <td><a href=\"https://www.mobelringen.no/siero-hjornesofa\">link</a></td>\n",
       "    </tr>\n",
       "  </tbody>\n",
       "</table>"
      ],
      "text/plain": [
       "<IPython.core.display.HTML object>"
      ]
     },
     "execution_count": 14,
     "metadata": {},
     "output_type": "execute_result"
    }
   ],
   "source": [
    "from IPython.display import HTML\n",
    "def image_formatter(im):\n",
    "    return f'<img src=\"{im}\">'\n",
    "def a_formatter(url):\n",
    "    return f'<a href=\"{url}\">link</a>'\n",
    "\n",
    "HTML(filt.to_html(formatters={'image': image_formatter, 'url': a_formatter}, escape=False))"
   ]
  },
  {
   "cell_type": "code",
   "execution_count": null,
   "metadata": {},
   "outputs": [],
   "source": []
  }
 ],
 "metadata": {
  "kernelspec": {
   "display_name": "Python 3",
   "language": "python",
   "name": "python3"
  },
  "language_info": {
   "codemirror_mode": {
    "name": "ipython",
    "version": 3
   },
   "file_extension": ".py",
   "mimetype": "text/x-python",
   "name": "python",
   "nbconvert_exporter": "python",
   "pygments_lexer": "ipython3",
   "version": "3.6.9"
  }
 },
 "nbformat": 4,
 "nbformat_minor": 4
}
