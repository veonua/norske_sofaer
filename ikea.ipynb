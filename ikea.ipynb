{
 "cells": [
  {
   "cell_type": "code",
   "execution_count": 1,
   "metadata": {},
   "outputs": [
    {
     "data": {
      "text/plain": [
       "171"
      ]
     },
     "execution_count": 1,
     "metadata": {},
     "output_type": "execute_result"
    }
   ],
   "source": [
    "# Fetch full catalog\n",
    "\n",
    "from bs4 import BeautifulSoup\n",
    "import pandas as pd\n",
    "import requests\n",
    "\n",
    "# fetch full catalog\n",
    "# but it's too hard to parse tree-like catalog\n",
    "# that includes not just product, but supplementary products like handles and fabrics\n",
    "\n",
    "ikea_cat = requests.get(f\"https://www.ikea.com/no/no/meta-data/products/catalog-feed/index.json\")\n",
    "ikea_cat_json = ikea_cat.json()\n",
    "ikea_resources = ikea_cat_json['resources']\n",
    "sofas_main = next(filter(lambda x: x['url'] == 'https://www.ikea.com/no/no/cat/sofa-fu003/', ikea_resources))\n",
    "sofas = filter(lambda x: x['key'] in sofas_main['subCategories'], ikea_resources)\n",
    "sofas_list = list(sofas)\n",
    "\n",
    "def make_a_link(pid):\n",
    "    cat = pid[-3:]\n",
    "    return f'https://www.ikea.com/no/no/products/{cat}/{pid}.html'\n",
    "\n",
    "len(sofas_main['productAndGprData'])"
   ]
  },
  {
   "cell_type": "markdown",
   "metadata": {},
   "source": [
    "# Scrapping"
   ]
  },
  {
   "cell_type": "code",
   "execution_count": null,
   "metadata": {},
   "outputs": [],
   "source": [
    "ikea_search = requests.get(f\"https://sik.search.blue.cdtapps.com/no/no/product-list-page?sessionId=1ab42ab9-983c-470d-bb61-4e8e675c443d&category=fu003&size=9999&c=lf&v=20200617\").json()\n",
    "\n",
    "trans = {'Bredde': 'width',\n",
    "         'Maks bredde' : 'max_width',         \n",
    "             'Høyde': 'height',\n",
    "             'Lengde': 'length',\n",
    "             'Dybde': 'depth',\n",
    "             'Maks. dybde':'max_depth',\n",
    "             'Min. dybde':'min_depth',\n",
    "             'Sittehøyde': 'sit_height',\n",
    "             'Setehøyde': 'sit_height',\n",
    "             'Setedybde' : 'sit_depth',\n",
    "             'Maks setedybde': \"max_sit_depth\",\n",
    "             'Min. setedybde': \"min_sit_depth\",\n",
    "             'Sete bredde' : 'sit_width',\n",
    "             'Sengebredde': 'bed_width',\n",
    "             'Sengelengde': 'bed_length',\n",
    "             'Armlenebredde' : 'arm_width',\n",
    "             'Fri høyde under møbler': 'clearance'\n",
    "            }\n",
    "\n",
    "\n",
    "def ikea(ik):\n",
    "    try:\n",
    "        url = ik['pipUrl']\n",
    "        content = requests.get(url).content\n",
    "        soup = BeautifulSoup(content, 'html.parser')\n",
    "        js1 = json.loads(soup.find('div', attrs={'class':\"js-price-package range-revamp-pip-price-package\"}).attrs['data-initial-props'])\n",
    "\n",
    "        price_amount = js1['price']['mainPriceProps']['price']['integer']\n",
    "        price_currency = ik['currencyCode']#js1['price']['currencySymbol']\n",
    "\n",
    "        js1 = json.loads(soup.find('div', attrs={'class':\"js-price-package range-revamp-pip-price-package\"}).attrs['data-initial-props'])\n",
    "\n",
    "        item = {\n",
    "                'source' : 'IKEA',\n",
    "                'title' : soup.find('meta', attrs={'property':'og:title'}).attrs['content'][:-7],\n",
    "                'image' : ik['mainImageUrl'], #soup.find('meta', attrs={'property':'og:image'}).attrs['content'],\n",
    "                'description' : soup.find('meta', attrs={'property':'og:description'}).attrs['content'], # js1['productDescription']\n",
    "                'url' : soup.find('meta', attrs={'property':'og:url'}).attrs['content'],\n",
    "                'price' : price_amount+' '+price_currency,\n",
    "                'typeName': ik['typeName'],\n",
    "                #'id': ik['id'],\n",
    "                'onlineSellable': ik['onlineSellable'],\n",
    "                'other_colors': ik['gprDescription']['colors'],\n",
    "                #'sku' : soup.find('meta', attrs={'itemprop':'sku'}).attrs['content'],\n",
    "                'brand' : js1['productName']\n",
    "            }\n",
    "\n",
    "        dims = soup.find('dl', attrs={'class':'range-revamp-product-dimensions__list'})\n",
    "        if dims is not None:\n",
    "            for dim in dims.find_all('div', attrs={'class':'range-revamp-product-dimensions__list-container'}):\n",
    "                label = dim.find('dt').text.split(':')[0]\n",
    "                label = trans.get(label,label)\n",
    "                val = dim.find('dd').text\n",
    "                item[label] = val\n",
    "                #try:\n",
    "                #    item[label+\"_i\"] = int(val[:-3])\n",
    "                #except ValueError:\n",
    "                #    pass\n",
    "    except Exception as e:\n",
    "        print(url+ ' ' + str(e))\n",
    "        \n",
    "    return item\n",
    "\n",
    "ikea_iter = (ikea(ik) for ik in ikea_search['productListPage']['productWindow'])\n",
    "ikea_pd.to_csv('./data/ikea.csv')"
   ]
  },
  {
   "cell_type": "markdown",
   "metadata": {},
   "source": [
    "# Start here"
   ]
  },
  {
   "cell_type": "code",
   "execution_count": 1,
   "metadata": {},
   "outputs": [
    {
     "data": {
      "text/plain": [
       "461"
      ]
     },
     "execution_count": 1,
     "metadata": {},
     "output_type": "execute_result"
    }
   ],
   "source": [
    "ikea_pd = pd.read_csv('https://raw.githubusercontent.com/veonua/norske_sofaer/master/data/ikea.csv')\n",
    "len(ikea_pd)"
   ]
  },
  {
   "cell_type": "code",
   "execution_count": 2,
   "metadata": {},
   "outputs": [],
   "source": [
    "def max_depth(r):\n",
    "    r = r.fillna(0)\n",
    "    val = r['max_depth'] or r['Bredde venstre'] or r['Dybde sjeselong'] or r['Setebredde venstre'] or r['depth'] \n",
    "    if val == 0: return 0\n",
    "    return int(val[:-3])\n",
    "\n",
    "def min_depth(r):\n",
    "    r = r.fillna(0)\n",
    "    val = r['min_depth'] or r['depth']\n",
    "    if val == 0: return 0\n",
    "    return int(val[:-3])\n",
    "    \n",
    "def width(r):\n",
    "    r = r.fillna(0)\n",
    "    val = r['width'] or r['Bredde høyre'] or r['Setebredde høyre'] \n",
    "    if val == 0: return 0\n",
    "    return int(val[:-3])\n",
    "\n",
    "ikea_pd['max_depth_i'] = ikea_pd.apply(max_depth, axis=1)\n",
    "ikea_pd['min_depth_i'] = ikea_pd.apply(min_depth, axis=1)\n",
    "ikea_pd['width_i'] = ikea_pd.apply(width, axis=1)"
   ]
  },
  {
   "cell_type": "code",
   "execution_count": 4,
   "metadata": {},
   "outputs": [],
   "source": [
    "filt = ikea_pd[['image', 'price', 'brand', 'max_depth_i', 'width_i', 'clearance', 'min_depth_i', 'Bredde venstre', 'Bredde høyre', 'url']]\n",
    "fw = ikea_pd['width_i'].between(260, 285) # | (ikea_pd['width_a'] == 0)\n",
    "fd = ikea_pd['max_depth_i'].between(170,223) | (ikea_pd['max_depth_i'] == 0)\n",
    "filt = filt[fd & fw].sort_values('brand')"
   ]
  },
  {
   "cell_type": "code",
   "execution_count": 5,
   "metadata": {},
   "outputs": [
    {
     "data": {
      "text/html": [
       "<table border=\"1\" class=\"dataframe\">\n",
       "  <thead>\n",
       "    <tr style=\"text-align: right;\">\n",
       "      <th></th>\n",
       "      <th>image</th>\n",
       "      <th>price</th>\n",
       "      <th>brand</th>\n",
       "      <th>max_depth_i</th>\n",
       "      <th>width_i</th>\n",
       "      <th>clearance</th>\n",
       "      <th>min_depth_i</th>\n",
       "      <th>Bredde venstre</th>\n",
       "      <th>Bredde høyre</th>\n",
       "      <th>url</th>\n",
       "    </tr>\n",
       "  </thead>\n",
       "  <tbody>\n",
       "    <tr>\n",
       "      <th>408</th>\n",
       "      <td><img src=\"https://www.ikea.com/no/no/images/products/lidhult-corner-sofa-4-seat__0620083_PE689395_S5.JPG\" width=\"350px\"></td>\n",
       "      <td>13.940 NOK</td>\n",
       "      <td>LIDHULT</td>\n",
       "      <td>205</td>\n",
       "      <td>275</td>\n",
       "      <td>7 cm</td>\n",
       "      <td>98</td>\n",
       "      <td>205 cm</td>\n",
       "      <td>275 cm</td>\n",
       "      <td><a href=\"https://www.ikea.com/no/no/p/lidhult-hjornesofa-4-seters-lejde-beige-brun-s29257467/\"> https://www.ikea.com/no/no/p/lidhult-hjornesofa-4-seters-lejde-beige-brun-s29257467/</a></td>\n",
       "    </tr>\n",
       "    <tr>\n",
       "      <th>441</th>\n",
       "      <td><img src=\"https://www.ikea.com/no/no/images/products/lidhult-corner-sofa-4-seat__0620080_PE689391_S5.JPG\" width=\"350px\"></td>\n",
       "      <td>19.890 NOK</td>\n",
       "      <td>LIDHULT</td>\n",
       "      <td>205</td>\n",
       "      <td>275</td>\n",
       "      <td>7 cm</td>\n",
       "      <td>98</td>\n",
       "      <td>205 cm</td>\n",
       "      <td>275 cm</td>\n",
       "      <td><a href=\"https://www.ikea.com/no/no/p/lidhult-hjornesofa-4-seters-grann-bomstad-gyllenbrun-s89257426/\"> https://www.ikea.com/no/no/p/lidhult-hjornesofa-4-seters-grann-bomstad-gyllenbrun-s89257426/</a></td>\n",
       "    </tr>\n",
       "    <tr>\n",
       "      <th>7</th>\n",
       "      <td><img src=\"https://www.ikea.com/no/no/images/products/nockeby-3-seat-sofa-with-chaise-longue-right-tallmyra-white-black-wood__0389182_PE559362_S5.JPG\" width=\"350px\"></td>\n",
       "      <td>8.999 NOK</td>\n",
       "      <td>NOCKEBY</td>\n",
       "      <td>175</td>\n",
       "      <td>277</td>\n",
       "      <td>15 cm</td>\n",
       "      <td>97</td>\n",
       "      <td>NaN</td>\n",
       "      <td>NaN</td>\n",
       "      <td><a href=\"https://www.ikea.com/no/no/p/nockeby-3-seters-sofa-med-sjeselong-hoyre-tallmyra-tallmyra-tre-hvit-svart-tre-s49129266/\"> https://www.ikea.com/no/no/p/nockeby-3-seters-sofa-med-sjeselong-hoyre-tallmyra-tallmyra-tre-hvit-svart-tre-s49129266/</a></td>\n",
       "    </tr>\n",
       "    <tr>\n",
       "      <th>21</th>\n",
       "      <td><img src=\"https://www.ikea.com/no/no/images/products/nockeby-3-seat-sofa__0389162_PE559364_S5.JPG\" width=\"350px\"></td>\n",
       "      <td>8.999 NOK</td>\n",
       "      <td>NOCKEBY</td>\n",
       "      <td>175</td>\n",
       "      <td>277</td>\n",
       "      <td>15 cm</td>\n",
       "      <td>97</td>\n",
       "      <td>NaN</td>\n",
       "      <td>NaN</td>\n",
       "      <td><a href=\"https://www.ikea.com/no/no/p/nockeby-3-seters-sofa-med-sjeselong-venstre-tallmyra-tallmyra-tre-hvit-svart-tre-s39129257/\"> https://www.ikea.com/no/no/p/nockeby-3-seters-sofa-med-sjeselong-venstre-tallmyra-tallmyra-tre-hvit-svart-tre-s39129257/</a></td>\n",
       "    </tr>\n",
       "    <tr>\n",
       "      <th>137</th>\n",
       "      <td><img src=\"https://www.ikea.com/no/no/images/products/vallentuna-modular-corner-sofa-3-seat-sofa-bed-and-storage-hillared-light-blue__0730033_PE737330_S5.JPG\" width=\"350px\"></td>\n",
       "      <td>15.440 NOK</td>\n",
       "      <td>VALLENTUNA</td>\n",
       "      <td>193</td>\n",
       "      <td>266</td>\n",
       "      <td>NaN</td>\n",
       "      <td>93</td>\n",
       "      <td>193 cm</td>\n",
       "      <td>266 cm</td>\n",
       "      <td><a href=\"https://www.ikea.com/no/no/p/vallentuna-3-seters-modulhjornesofa-seng-og-oppbevaring-hillared-lys-bla-s49277978/\"> https://www.ikea.com/no/no/p/vallentuna-3-seters-modulhjornesofa-seng-og-oppbevaring-hillared-lys-bla-s49277978/</a></td>\n",
       "    </tr>\n",
       "    <tr>\n",
       "      <th>194</th>\n",
       "      <td><img src=\"https://www.ikea.com/no/no/images/products/vallentuna-modular-corner-sofa-3-seat-with-storage-orrsta-light-grey__0624021_PE691595_S5.JPG\" width=\"350px\"></td>\n",
       "      <td>11.835 NOK</td>\n",
       "      <td>VALLENTUNA</td>\n",
       "      <td>193</td>\n",
       "      <td>266</td>\n",
       "      <td>NaN</td>\n",
       "      <td>93</td>\n",
       "      <td>193 cm</td>\n",
       "      <td>266 cm</td>\n",
       "      <td><a href=\"https://www.ikea.com/no/no/p/vallentuna-3-seters-modulhjornesofa-med-oppbevaring-orrsta-lys-gra-s29277960/\"> https://www.ikea.com/no/no/p/vallentuna-3-seters-modulhjornesofa-med-oppbevaring-orrsta-lys-gra-s29277960/</a></td>\n",
       "    </tr>\n",
       "  </tbody>\n",
       "</table>"
      ],
      "text/plain": [
       "<IPython.core.display.HTML object>"
      ]
     },
     "execution_count": 5,
     "metadata": {},
     "output_type": "execute_result"
    }
   ],
   "source": [
    "from IPython.display import HTML\n",
    "def image_formatter(im):\n",
    "    return f'<img src=\"{im}\" width=\"350px\">'\n",
    "def a_formatter(url):\n",
    "    return f'<a href=\"{url}\"> {url}</a>'\n",
    "\n",
    "disp = filt\n",
    "HTML(disp.to_html(formatters={'image': image_formatter, 'url': a_formatter}, escape=False))"
   ]
  },
  {
   "cell_type": "code",
   "execution_count": null,
   "metadata": {},
   "outputs": [],
   "source": []
  }
 ],
 "metadata": {
  "kernelspec": {
   "display_name": "Python 3",
   "language": "python",
   "name": "python3"
  },
  "language_info": {
   "codemirror_mode": {
    "name": "ipython",
    "version": 3
   },
   "file_extension": ".py",
   "mimetype": "text/x-python",
   "name": "python",
   "nbconvert_exporter": "python",
   "pygments_lexer": "ipython3",
   "version": "3.6.9"
  }
 },
 "nbformat": 4,
 "nbformat_minor": 4
}
